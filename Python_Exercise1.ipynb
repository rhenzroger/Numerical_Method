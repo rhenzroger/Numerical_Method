{
  "nbformat": 4,
  "nbformat_minor": 0,
  "metadata": {
    "colab": {
      "name": "Python_Exercise1.ipynb",
      "provenance": [],
      "authorship_tag": "ABX9TyOSaBzQJYLAfLvHjOrGlosd",
      "include_colab_link": true
    },
    "kernelspec": {
      "name": "python3",
      "display_name": "Python 3"
    },
    "language_info": {
      "name": "python"
    }
  },
  "cells": [
    {
      "cell_type": "markdown",
      "metadata": {
        "id": "view-in-github",
        "colab_type": "text"
      },
      "source": [
        "<a href=\"https://colab.research.google.com/github/rhenzroger/Numerical_Method/blob/main/Python_Exercise1.ipynb\" target=\"_parent\"><img src=\"https://colab.research.google.com/assets/colab-badge.svg\" alt=\"Open In Colab\"/></a>"
      ]
    },
    {
      "cell_type": "code",
      "metadata": {
        "id": "d14UZmhngOi2"
      },
      "source": [
        "name = input(\"Name: \")\n",
        "course = input(\"Course: \")\n",
        "prelimgrade = input(\"Prelim Grade: \")\n",
        "midtermgrade = input(\"Midterms Grade: \")\n",
        "finalsgrade = input(\"Finals Grade: \")\n",
        "\n",
        "semestralgrade = ((int(prelimgrade) * .30) + (int(midtermgrade) * .30) + (int(finalsgrade)) * .40)\n",
        "print(\"Hi {}, your semesters final grade in {} is: {:.2f} \".format(name, course, semestralgrade))"
      ],
      "execution_count": null,
      "outputs": []
    }
  ]
}