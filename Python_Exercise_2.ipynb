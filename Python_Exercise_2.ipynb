{
  "nbformat": 4,
  "nbformat_minor": 0,
  "metadata": {
    "colab": {
      "name": "Python Exercise 2 ",
      "provenance": [],
      "authorship_tag": "ABX9TyNuysEhrPDBapl4t9Y7gaPO",
      "include_colab_link": true
    },
    "kernelspec": {
      "name": "python3",
      "display_name": "Python 3"
    },
    "language_info": {
      "name": "python"
    }
  },
  "cells": [
    {
      "cell_type": "markdown",
      "metadata": {
        "id": "view-in-github",
        "colab_type": "text"
      },
      "source": [
        "<a href=\"https://colab.research.google.com/github/rhenzroger/Numerical_Method/blob/main/Python_Exercise_2.ipynb\" target=\"_parent\"><img src=\"https://colab.research.google.com/assets/colab-badge.svg\" alt=\"Open In Colab\"/></a>"
      ]
    },
    {
      "cell_type": "code",
      "metadata": {
        "colab": {
          "base_uri": "https://localhost:8080/"
        },
        "id": "uWDUHkQFtKcJ",
        "outputId": "953096a3-489d-4077-ed13-b696aa8ec007"
      },
      "source": [
        "import numpy as np\n",
        "\n",
        "a = np.array([-5,0,\n",
        "              4,1])\n",
        "\n",
        "b = np.array([6,-3,\n",
        "              2,3])\n",
        "\n",
        "sum = a + b;\n",
        "difference1 = b - a;\n",
        "difference2 = a - b;\n",
        "\n",
        "print(\"The sum of A and B is \", sum)\n",
        "print(\"The difference of B and A\", difference1)\n",
        "print(\"The difference of A and B\", difference2)"
      ],
      "execution_count": 3,
      "outputs": [
        {
          "output_type": "stream",
          "name": "stdout",
          "text": [
            "The sum of A and B is  [ 1 -3  6  4]\n",
            "The difference of B and A [11 -3 -2  2]\n",
            "The difference of A and B [-11   3   2  -2]\n"
          ]
        }
      ]
    }
  ]
}