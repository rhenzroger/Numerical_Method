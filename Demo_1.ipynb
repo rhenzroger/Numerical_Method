{
  "nbformat": 4,
  "nbformat_minor": 0,
  "metadata": {
    "colab": {
      "name": "Demo 1",
      "provenance": [],
      "collapsed_sections": []
    },
    "kernelspec": {
      "name": "python3",
      "display_name": "Python 3"
    },
    "language_info": {
      "name": "python"
    }
  },
  "cells": [
    {
      "cell_type": "code",
      "metadata": {
        "colab": {
          "base_uri": "https://localhost:8080/"
        },
        "id": "8IEYno_DWxXn",
        "outputId": "77e0bea3-6b18-47d4-9894-871de10226e1"
      },
      "source": [
        "a = \"Rhenz \"\n",
        "b = \"cutie\"\n",
        "print(a+b)"
      ],
      "execution_count": null,
      "outputs": [
        {
          "output_type": "stream",
          "text": [
            "Rhenz cutie\n"
          ],
          "name": "stdout"
        }
      ]
    },
    {
      "cell_type": "code",
      "metadata": {
        "colab": {
          "base_uri": "https://localhost:8080/"
        },
        "id": "0UF6DOKeSt3c",
        "outputId": "092a56df-246a-4857-ccd6-3a740d23ae48"
      },
      "source": [
        "x = \"enjoying\"\n",
        "print('Python programming is ' + x)"
      ],
      "execution_count": null,
      "outputs": [
        {
          "output_type": "stream",
          "text": [
            "Python programming is enjoying\n"
          ],
          "name": "stdout"
        }
      ]
    },
    {
      "cell_type": "code",
      "metadata": {
        "colab": {
          "base_uri": "https://localhost:8080/"
        },
        "id": "-uAut7r-TYcr",
        "outputId": "5b51e3e4-9e18-4aa6-b8d0-42ecde7b5cb3"
      },
      "source": [
        "x = \"enjoying\"\n",
        "y = \"Python programming is \"\n",
        "z = y + x\n",
        "print(z)"
      ],
      "execution_count": null,
      "outputs": [
        {
          "output_type": "stream",
          "text": [
            "Python programming is enjoying\n"
          ],
          "name": "stdout"
        }
      ]
    },
    {
      "cell_type": "code",
      "metadata": {
        "colab": {
          "base_uri": "https://localhost:8080/"
        },
        "id": "MqfssJeGTnuQ",
        "outputId": "31e31235-d506-40bb-e939-5c9422c89b83"
      },
      "source": [
        "x = 5\n",
        "y = 8\n",
        "sum = x + y\n",
        "sum"
      ],
      "execution_count": null,
      "outputs": [
        {
          "output_type": "execute_result",
          "data": {
            "text/plain": [
              "13"
            ]
          },
          "metadata": {},
          "execution_count": 12
        }
      ]
    },
    {
      "cell_type": "code",
      "metadata": {
        "colab": {
          "base_uri": "https://localhost:8080/"
        },
        "id": "IXhNkIdZVMlL",
        "outputId": "fc8832ba-3cf2-4fda-85c0-64078dbf1408"
      },
      "source": [
        "x = 5\n",
        "y = 8\n",
        "compare = x < y\n",
        "compare"
      ],
      "execution_count": null,
      "outputs": [
        {
          "output_type": "execute_result",
          "data": {
            "text/plain": [
              "True"
            ]
          },
          "metadata": {},
          "execution_count": 17
        }
      ]
    },
    {
      "cell_type": "markdown",
      "metadata": {
        "id": "tcyILFJxUhXn"
      },
      "source": [
        "% will display the remainder of the divided number "
      ]
    },
    {
      "cell_type": "code",
      "metadata": {
        "colab": {
          "base_uri": "https://localhost:8080/"
        },
        "id": "naSScAaQUIGD",
        "outputId": "d7ed7354-b4cb-4a56-98dd-bb8468102d95"
      },
      "source": [
        "a,b,c = 1, 2, 4\n",
        "c%=3\n",
        "c"
      ],
      "execution_count": null,
      "outputs": [
        {
          "output_type": "execute_result",
          "data": {
            "text/plain": [
              "1"
            ]
          },
          "metadata": {},
          "execution_count": 16
        }
      ]
    }
  ]
}